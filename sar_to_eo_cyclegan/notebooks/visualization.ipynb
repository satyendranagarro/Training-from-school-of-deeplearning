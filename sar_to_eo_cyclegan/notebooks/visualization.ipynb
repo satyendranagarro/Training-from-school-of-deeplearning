{
 "cells": [
  {
   "cell_type": "code",
   "execution_count": 7,
   "id": "c0d5da8f",
   "metadata": {},
   "outputs": [
    {
     "name": "stdout",
     "output_type": "stream",
     "text": [
      "Available configurations: ['rgb', 'nir_swir', 'rgb_nir']\n"
     ]
    }
   ],
   "source": [
    "# SAR-to-EO CycleGAN Results Visualization\n",
    "import os\n",
    "import sys\n",
    "sys.path.append('..')\n",
    "\n",
    "import numpy as np\n",
    "import matplotlib.pyplot as plt\n",
    "import seaborn as sns\n",
    "import torch\n",
    "import yaml\n",
    "from tqdm import tqdm\n",
    "import pandas as pd\n",
    "\n",
    "from utils.dataset import Sen12MSDataset, create_data_loader\n",
    "from utils.metrics import calculate_ndvi, evaluate_model\n",
    "from models.cyclegan import CycleGANModel\n",
    "\n",
    "plt.style.use('seaborn-v0_8')\n",
    "%matplotlib inline\n",
    "\n",
    "# Load configuration\n",
    "with open('../configs/config.yaml', 'r') as f:\n",
    "    config = yaml.safe_load(f)\n",
    "\n",
    "print(\"Available configurations:\", list(config['band_configs'].keys()))"
   ]
  },
  {
   "cell_type": "code",
   "execution_count": 8,
   "id": "cfefc94c",
   "metadata": {},
   "outputs": [],
   "source": [
    "def load_and_test_model(config_name):\n",
    "    \"\"\"Load trained model and generate test results\"\"\"\n",
    "    config['current_config'] = config_name\n",
    "    \n",
    "    # Create test dataset\n",
    "    band_config = config['band_configs'][config_name]\n",
    "    target_bands = band_config['bands']\n",
    "    \n",
    "    dataset = Sen12MSDataset(\n",
    "        config['data']['sar_dir'], \n",
    "        config['data']['eo_dir'], \n",
    "        target_bands\n",
    "    )\n",
    "    \n",
    "    # Use test split\n",
    "    dataset_size = len(dataset)\n",
    "    train_size = int(0.8 * dataset_size)\n",
    "    test_size = dataset_size - train_size\n",
    "    \n",
    "    _, test_dataset = torch.utils.data.random_split(\n",
    "        dataset, [train_size, test_size],\n",
    "        generator=torch.Generator().manual_seed(42)\n",
    "    )\n",
    "    \n",
    "    test_loader = create_data_loader(test_dataset, batch_size=1, shuffle=False)\n",
    "    \n",
    "    # Load model\n",
    "    model = CycleGANModel(config)\n",
    "    checkpoint_dir = f\"../checkpoints/{config_name}\"\n",
    "    model.load_networks('final', checkpoint_dir)\n",
    "    model.eval_mode()\n",
    "    \n",
    "    return model, test_loader"
   ]
  },
  {
   "cell_type": "code",
   "execution_count": 9,
   "id": "a7d31afb",
   "metadata": {},
   "outputs": [],
   "source": [
    "def create_comparison_plot(config_name, num_samples=3):\n",
    "    \"\"\"Create detailed comparison plots\"\"\"\n",
    "    model, test_loader = load_and_test_model(config_name)\n",
    "    \n",
    "    fig, axes = plt.subplots(num_samples, 4, figsize=(16, 4*num_samples))\n",
    "    \n",
    "    with torch.no_grad():\n",
    "        for i, batch in enumerate(test_loader):\n",
    "            if i >= num_samples:\n",
    "                break\n",
    "                \n",
    "            model.set_input(batch)\n",
    "            model.forward()\n",
    "            \n",
    "            # Get images\n",
    "            sar_img = batch['sar'][0].cpu().numpy()\n",
    "            generated_eo = model.fake_B[0].cpu().numpy()\n",
    "            real_eo = batch['eo'][0].cpu().numpy()\n",
    "            \n",
    "            # SAR VV\n",
    "            axes[i, 0].imshow((sar_img[0] + 1) / 2, cmap='gray')\n",
    "            axes[i, 0].set_title(f'SAR VV - Sample {i+1}')\n",
    "            axes[i, 0].axis('off')\n",
    "            \n",
    "            # SAR VH\n",
    "            axes[i, 1].imshow((sar_img[1] + 1) / 2, cmap='gray')\n",
    "            axes[i, 1].set_title(f'SAR VH - Sample {i+1}')\n",
    "            axes[i, 1].axis('off')\n",
    "            \n",
    "            # Generated EO\n",
    "            if config_name in ['rgb', 'rgb_nir']:\n",
    "                rgb_gen = generated_eo[:3].transpose(1, 2, 0)\n",
    "                rgb_gen = np.clip((rgb_gen + 1) / 2, 0, 1)\n",
    "                axes[i, 2].imshow(rgb_gen)\n",
    "            else:\n",
    "                axes[i, 2].imshow((generated_eo[0] + 1) / 2, cmap='RdYlGn')\n",
    "            axes[i, 2].set_title(f'Generated EO - Sample {i+1}')\n",
    "            axes[i, 2].axis('off')\n",
    "            \n",
    "            # Real EO\n",
    "            if config_name in ['rgb', 'rgb_nir']:\n",
    "                rgb_real = real_eo[:3].transpose(1, 2, 0)\n",
    "                rgb_real = np.clip((rgb_real + 1) / 2, 0, 1)\n",
    "                axes[i, 3].imshow(rgb_real)\n",
    "            else:\n",
    "                axes[i, 3].imshow((real_eo[0] + 1) / 2, cmap='RdYlGn')\n",
    "            axes[i, 3].set_title(f'Real EO - Sample {i+1}')\n",
    "            axes[i, 3].axis('off')\n",
    "    \n",
    "    plt.tight_layout()\n",
    "    plt.suptitle(f'{config_name.upper()} Configuration Results', fontsize=16, y=1.02)\n",
    "    plt.show()\n"
   ]
  },
  {
   "cell_type": "code",
   "execution_count": 10,
   "id": "25d46cf4",
   "metadata": {},
   "outputs": [],
   "source": [
    "def analyze_spectral_differences():\n",
    "    \"\"\"Analyze spectral differences between configurations\"\"\"\n",
    "    \n",
    "    metrics_all = {}\n",
    "    \n",
    "    for config_name in ['rgb', 'nir_swir', 'rgb_nir']:\n",
    "        model, test_loader = load_and_test_model(config_name)\n",
    "        metrics = evaluate_model(model, test_loader, config_name)\n",
    "        metrics_all[config_name] = metrics\n",
    "    \n",
    "    # Create comparison plot\n",
    "    fig, axes = plt.subplots(2, 2, figsize=(12, 10))\n",
    "    \n",
    "    metrics_to_plot = ['psnr', 'ssim', 'mae', 'rmse']\n",
    "    titles = ['PSNR (dB)', 'SSIM', 'MAE', 'RMSE']\n",
    "    \n",
    "    for idx, (metric, title) in enumerate(zip(metrics_to_plot, titles)):\n",
    "        ax = axes[idx // 2, idx % 2]\n",
    "        \n",
    "        configs = list(metrics_all.keys())\n",
    "        values = [metrics_all[config][metric] for config in configs]\n",
    "        errors = [metrics_all[config][f'{metric}_std'] for config in configs]\n",
    "        \n",
    "        bars = ax.bar(configs, values, yerr=errors, capsize=5, \n",
    "                     color=['skyblue', 'lightcoral', 'lightgreen'])\n",
    "        ax.set_title(title)\n",
    "        ax.set_ylabel(title)\n",
    "        \n",
    "        # Add value labels on bars\n",
    "        for bar, value in zip(bars, values):\n",
    "            ax.text(bar.get_x() + bar.get_width()/2, bar.get_height() + max(errors)/10,\n",
    "                   f'{value:.3f}', ha='center', va='bottom')\n",
    "    \n",
    "    plt.tight_layout()\n",
    "    plt.suptitle('Performance Comparison Across Configurations', fontsize=16, y=1.02)\n",
    "    plt.show()\n",
    "    \n",
    "    return metrics_all"
   ]
  },
  {
   "cell_type": "code",
   "execution_count": 11,
   "id": "666fcb6f",
   "metadata": {},
   "outputs": [],
   "source": [
    "def create_metrics_table(metrics_comparison):\n",
    "    \"\"\"Create a formatted metrics comparison table\"\"\"\n",
    "    \n",
    "    # Prepare data for table\n",
    "    table_data = []\n",
    "    \n",
    "    for config in ['rgb', 'nir_swir', 'rgb_nir']:\n",
    "        metrics = metrics_comparison[config]\n",
    "        row = {\n",
    "            'Configuration': config.upper(),\n",
    "            'PSNR (dB)': f\"{metrics['psnr']:.3f} ± {metrics['psnr_std']:.3f}\",\n",
    "            'SSIM': f\"{metrics['ssim']:.3f} ± {metrics['ssim_std']:.3f}\",\n",
    "            'MAE': f\"{metrics['mae']:.3f} ± {metrics['mae_std']:.3f}\",\n",
    "            'RMSE': f\"{metrics['rmse']:.3f} ± {metrics['rmse_std']:.3f}\"\n",
    "        }\n",
    "        \n",
    "        if metrics['ndvi_corr'] > 0:\n",
    "            row['NDVI Corr'] = f\"{metrics['ndvi_corr']:.3f} ± {metrics['ndvi_corr_std']:.3f}\"\n",
    "        else:\n",
    "            row['NDVI Corr'] = 'N/A'\n",
    "            \n",
    "        table_data.append(row)\n",
    "    \n",
    "    df = pd.DataFrame(table_data)\n",
    "    \n",
    "    # Display styled table\n",
    "    print(\"Performance Metrics Comparison\")\n",
    "    print(\"=\" * 80)\n",
    "    print(df.to_string(index=False))\n",
    "    print(\"=\" * 80)\n",
    "    \n",
    "    return df"
   ]
  },
  {
   "cell_type": "code",
   "execution_count": 12,
   "id": "c066ceff",
   "metadata": {},
   "outputs": [
    {
     "name": "stdout",
     "output_type": "stream",
     "text": [
      "hi\n",
      "0\n",
      "Found 0 valid file pairs\n",
      "Networks loaded from epoch final\n"
     ]
    },
    {
     "name": "stderr",
     "output_type": "stream",
     "text": [
      "c:\\Users\\HP\\AppData\\Local\\Programs\\Python\\Python310\\lib\\site-packages\\torch\\utils\\data\\dataloader.py:665: UserWarning: 'pin_memory' argument is set as true but no accelerator is found, then device pinned memory won't be used.\n",
      "  warnings.warn(warn_msg)\n"
     ]
    },
    {
     "data": {
      "image/png": "[encoded data removed]",
      "text/plain": [
       "<Figure size 1600x800 with 8 Axes>"
      ]
     },
     "metadata": {},
     "output_type": "display_data"
    },
    {
     "name": "stdout",
     "output_type": "stream",
     "text": [
      "hi\n",
      "0\n",
      "Found 0 valid file pairs\n"
     ]
    },
    {
     "ename": "FileNotFoundError",
     "evalue": "[Errno 2] No such file or directory: '../checkpoints/nir_swir\\\\net_G_A_epoch_final.pth'",
     "output_type": "error",
     "traceback": [
      "\u001b[1;31m---------------------------------------------------------------------------\u001b[0m",
      "\u001b[1;31mFileNotFoundError\u001b[0m                         Traceback (most recent call last)",
      "Cell \u001b[1;32mIn[12], line 3\u001b[0m\n\u001b[0;32m      1\u001b[0m \u001b[38;5;66;03m# Generate comparison plots for all configurations\u001b[39;00m\n\u001b[0;32m      2\u001b[0m \u001b[38;5;28;01mfor\u001b[39;00m config_name \u001b[38;5;129;01min\u001b[39;00m [\u001b[38;5;124m'\u001b[39m\u001b[38;5;124mrgb\u001b[39m\u001b[38;5;124m'\u001b[39m, \u001b[38;5;124m'\u001b[39m\u001b[38;5;124mnir_swir\u001b[39m\u001b[38;5;124m'\u001b[39m, \u001b[38;5;124m'\u001b[39m\u001b[38;5;124mrgb_nir\u001b[39m\u001b[38;5;124m'\u001b[39m]:\n\u001b[1;32m----> 3\u001b[0m     \u001b[43mcreate_comparison_plot\u001b[49m\u001b[43m(\u001b[49m\u001b[43mconfig_name\u001b[49m\u001b[43m,\u001b[49m\u001b[43m \u001b[49m\u001b[43mnum_samples\u001b[49m\u001b[38;5;241;43m=\u001b[39;49m\u001b[38;5;241;43m2\u001b[39;49m\u001b[43m)\u001b[49m\n\u001b[0;32m      5\u001b[0m \u001b[38;5;66;03m# Analyze and compare metrics\u001b[39;00m\n\u001b[0;32m      6\u001b[0m metrics_comparison \u001b[38;5;241m=\u001b[39m analyze_spectral_differences()\n",
      "Cell \u001b[1;32mIn[9], line 3\u001b[0m, in \u001b[0;36mcreate_comparison_plot\u001b[1;34m(config_name, num_samples)\u001b[0m\n\u001b[0;32m      1\u001b[0m \u001b[38;5;28;01mdef\u001b[39;00m\u001b[38;5;250m \u001b[39m\u001b[38;5;21mcreate_comparison_plot\u001b[39m(config_name, num_samples\u001b[38;5;241m=\u001b[39m\u001b[38;5;241m3\u001b[39m):\n\u001b[0;32m      2\u001b[0m \u001b[38;5;250m    \u001b[39m\u001b[38;5;124;03m\"\"\"Create detailed comparison plots\"\"\"\u001b[39;00m\n\u001b[1;32m----> 3\u001b[0m     model, test_loader \u001b[38;5;241m=\u001b[39m \u001b[43mload_and_test_model\u001b[49m\u001b[43m(\u001b[49m\u001b[43mconfig_name\u001b[49m\u001b[43m)\u001b[49m\n\u001b[0;32m      5\u001b[0m     fig, axes \u001b[38;5;241m=\u001b[39m plt\u001b[38;5;241m.\u001b[39msubplots(num_samples, \u001b[38;5;241m4\u001b[39m, figsize\u001b[38;5;241m=\u001b[39m(\u001b[38;5;241m16\u001b[39m, \u001b[38;5;241m4\u001b[39m\u001b[38;5;241m*\u001b[39mnum_samples))\n\u001b[0;32m      7\u001b[0m     \u001b[38;5;28;01mwith\u001b[39;00m torch\u001b[38;5;241m.\u001b[39mno_grad():\n",
      "Cell \u001b[1;32mIn[8], line 30\u001b[0m, in \u001b[0;36mload_and_test_model\u001b[1;34m(config_name)\u001b[0m\n\u001b[0;32m     28\u001b[0m model \u001b[38;5;241m=\u001b[39m CycleGANModel(config)\n\u001b[0;32m     29\u001b[0m checkpoint_dir \u001b[38;5;241m=\u001b[39m \u001b[38;5;124mf\u001b[39m\u001b[38;5;124m\"\u001b[39m\u001b[38;5;124m../checkpoints/\u001b[39m\u001b[38;5;132;01m{\u001b[39;00mconfig_name\u001b[38;5;132;01m}\u001b[39;00m\u001b[38;5;124m\"\u001b[39m\n\u001b[1;32m---> 30\u001b[0m \u001b[43mmodel\u001b[49m\u001b[38;5;241;43m.\u001b[39;49m\u001b[43mload_networks\u001b[49m\u001b[43m(\u001b[49m\u001b[38;5;124;43m'\u001b[39;49m\u001b[38;5;124;43mfinal\u001b[39;49m\u001b[38;5;124;43m'\u001b[39;49m\u001b[43m,\u001b[49m\u001b[43m \u001b[49m\u001b[43mcheckpoint_dir\u001b[49m\u001b[43m)\u001b[49m\n\u001b[0;32m     31\u001b[0m model\u001b[38;5;241m.\u001b[39meval_mode()\n\u001b[0;32m     33\u001b[0m \u001b[38;5;28;01mreturn\u001b[39;00m model, test_loader\n",
      "File \u001b[1;32md:\\Summer School project 1\\sar_to_eo_cyclegan\\notebooks\\..\\models\\cyclegan.py:196\u001b[0m, in \u001b[0;36mCycleGANModel.load_networks\u001b[1;34m(self, epoch, save_dir)\u001b[0m\n\u001b[0;32m    194\u001b[0m load_filename \u001b[38;5;241m=\u001b[39m \u001b[38;5;124mf\u001b[39m\u001b[38;5;124m'\u001b[39m\u001b[38;5;124mnet_G_A_epoch_\u001b[39m\u001b[38;5;132;01m{\u001b[39;00mepoch\u001b[38;5;132;01m}\u001b[39;00m\u001b[38;5;124m.pth\u001b[39m\u001b[38;5;124m'\u001b[39m\n\u001b[0;32m    195\u001b[0m load_path \u001b[38;5;241m=\u001b[39m os\u001b[38;5;241m.\u001b[39mpath\u001b[38;5;241m.\u001b[39mjoin(save_dir, load_filename)\n\u001b[1;32m--> 196\u001b[0m \u001b[38;5;28mself\u001b[39m\u001b[38;5;241m.\u001b[39mnetG_A\u001b[38;5;241m.\u001b[39mload_state_dict(\u001b[43mtorch\u001b[49m\u001b[38;5;241;43m.\u001b[39;49m\u001b[43mload\u001b[49m\u001b[43m(\u001b[49m\u001b[43mload_path\u001b[49m\u001b[43m)\u001b[49m)\n\u001b[0;32m    198\u001b[0m load_filename \u001b[38;5;241m=\u001b[39m \u001b[38;5;124mf\u001b[39m\u001b[38;5;124m'\u001b[39m\u001b[38;5;124mnet_G_B_epoch_\u001b[39m\u001b[38;5;132;01m{\u001b[39;00mepoch\u001b[38;5;132;01m}\u001b[39;00m\u001b[38;5;124m.pth\u001b[39m\u001b[38;5;124m'\u001b[39m\n\u001b[0;32m    199\u001b[0m load_path \u001b[38;5;241m=\u001b[39m os\u001b[38;5;241m.\u001b[39mpath\u001b[38;5;241m.\u001b[39mjoin(save_dir, load_filename)\n",
      "File \u001b[1;32mc:\\Users\\HP\\AppData\\Local\\Programs\\Python\\Python310\\lib\\site-packages\\torch\\serialization.py:1479\u001b[0m, in \u001b[0;36mload\u001b[1;34m(f, map_location, pickle_module, weights_only, mmap, **pickle_load_args)\u001b[0m\n\u001b[0;32m   1476\u001b[0m \u001b[38;5;28;01mif\u001b[39;00m \u001b[38;5;124m\"\u001b[39m\u001b[38;5;124mencoding\u001b[39m\u001b[38;5;124m\"\u001b[39m \u001b[38;5;129;01mnot\u001b[39;00m \u001b[38;5;129;01min\u001b[39;00m pickle_load_args\u001b[38;5;241m.\u001b[39mkeys():\n\u001b[0;32m   1477\u001b[0m     pickle_load_args[\u001b[38;5;124m\"\u001b[39m\u001b[38;5;124mencoding\u001b[39m\u001b[38;5;124m\"\u001b[39m] \u001b[38;5;241m=\u001b[39m \u001b[38;5;124m\"\u001b[39m\u001b[38;5;124mutf-8\u001b[39m\u001b[38;5;124m\"\u001b[39m\n\u001b[1;32m-> 1479\u001b[0m \u001b[38;5;28;01mwith\u001b[39;00m \u001b[43m_open_file_like\u001b[49m\u001b[43m(\u001b[49m\u001b[43mf\u001b[49m\u001b[43m,\u001b[49m\u001b[43m \u001b[49m\u001b[38;5;124;43m\"\u001b[39;49m\u001b[38;5;124;43mrb\u001b[39;49m\u001b[38;5;124;43m\"\u001b[39;49m\u001b[43m)\u001b[49m \u001b[38;5;28;01mas\u001b[39;00m opened_file:\n\u001b[0;32m   1480\u001b[0m     \u001b[38;5;28;01mif\u001b[39;00m _is_zipfile(opened_file):\n\u001b[0;32m   1481\u001b[0m         \u001b[38;5;66;03m# The zipfile reader is going to advance the current file position.\u001b[39;00m\n\u001b[0;32m   1482\u001b[0m         \u001b[38;5;66;03m# If we want to actually tail call to torch.jit.load, we need to\u001b[39;00m\n\u001b[0;32m   1483\u001b[0m         \u001b[38;5;66;03m# reset back to the original position.\u001b[39;00m\n\u001b[0;32m   1484\u001b[0m         orig_position \u001b[38;5;241m=\u001b[39m opened_file\u001b[38;5;241m.\u001b[39mtell()\n",
      "File \u001b[1;32mc:\\Users\\HP\\AppData\\Local\\Programs\\Python\\Python310\\lib\\site-packages\\torch\\serialization.py:759\u001b[0m, in \u001b[0;36m_open_file_like\u001b[1;34m(name_or_buffer, mode)\u001b[0m\n\u001b[0;32m    757\u001b[0m \u001b[38;5;28;01mdef\u001b[39;00m\u001b[38;5;250m \u001b[39m\u001b[38;5;21m_open_file_like\u001b[39m(name_or_buffer: FileLike, mode: \u001b[38;5;28mstr\u001b[39m) \u001b[38;5;241m-\u001b[39m\u001b[38;5;241m>\u001b[39m _opener[IO[\u001b[38;5;28mbytes\u001b[39m]]:\n\u001b[0;32m    758\u001b[0m     \u001b[38;5;28;01mif\u001b[39;00m _is_path(name_or_buffer):\n\u001b[1;32m--> 759\u001b[0m         \u001b[38;5;28;01mreturn\u001b[39;00m \u001b[43m_open_file\u001b[49m\u001b[43m(\u001b[49m\u001b[43mname_or_buffer\u001b[49m\u001b[43m,\u001b[49m\u001b[43m \u001b[49m\u001b[43mmode\u001b[49m\u001b[43m)\u001b[49m\n\u001b[0;32m    760\u001b[0m     \u001b[38;5;28;01melse\u001b[39;00m:\n\u001b[0;32m    761\u001b[0m         \u001b[38;5;28;01mif\u001b[39;00m \u001b[38;5;124m\"\u001b[39m\u001b[38;5;124mw\u001b[39m\u001b[38;5;124m\"\u001b[39m \u001b[38;5;129;01min\u001b[39;00m mode:\n",
      "File \u001b[1;32mc:\\Users\\HP\\AppData\\Local\\Programs\\Python\\Python310\\lib\\site-packages\\torch\\serialization.py:740\u001b[0m, in \u001b[0;36m_open_file.__init__\u001b[1;34m(self, name, mode)\u001b[0m\n\u001b[0;32m    739\u001b[0m \u001b[38;5;28;01mdef\u001b[39;00m\u001b[38;5;250m \u001b[39m\u001b[38;5;21m__init__\u001b[39m(\u001b[38;5;28mself\u001b[39m, name: Union[\u001b[38;5;28mstr\u001b[39m, os\u001b[38;5;241m.\u001b[39mPathLike[\u001b[38;5;28mstr\u001b[39m]], mode: \u001b[38;5;28mstr\u001b[39m) \u001b[38;5;241m-\u001b[39m\u001b[38;5;241m>\u001b[39m \u001b[38;5;28;01mNone\u001b[39;00m:\n\u001b[1;32m--> 740\u001b[0m     \u001b[38;5;28msuper\u001b[39m()\u001b[38;5;241m.\u001b[39m\u001b[38;5;21m__init__\u001b[39m(\u001b[38;5;28;43mopen\u001b[39;49m\u001b[43m(\u001b[49m\u001b[43mname\u001b[49m\u001b[43m,\u001b[49m\u001b[43m \u001b[49m\u001b[43mmode\u001b[49m\u001b[43m)\u001b[49m)\n",
      "\u001b[1;31mFileNotFoundError\u001b[0m: [Errno 2] No such file or directory: '../checkpoints/nir_swir\\\\net_G_A_epoch_final.pth'"
     ]
    }
   ],
   "source": [
    "# Generate comparison plots for all configurations\n",
    "for config_name in ['rgb', 'nir_swir', 'rgb_nir']:\n",
    "    create_comparison_plot(config_name, num_samples=2)\n",
    "\n",
    "# Analyze and compare metrics\n",
    "metrics_comparison = analyze_spectral_differences()\n",
    "\n",
    "# Create metrics table\n",
    "results_table = create_metrics_table(metrics_comparison)"
   ]
  },
  {
   "cell_type": "code",
   "execution_count": null,
   "id": "2319b70e",
   "metadata": {},
   "outputs": [],
   "source": []
  }
 ],
 "metadata": {
  "kernelspec": {
   "display_name": "Python 3",
   "language": "python",
   "name": "python3"
  },
  "language_info": {
   "codemirror_mode": {
    "name": "ipython",
    "version": 3
   },
   "file_extension": ".py",
   "mimetype": "text/x-python",
   "name": "python",
   "nbconvert_exporter": "python",
   "pygments_lexer": "ipython3",
   "version": "3.10.0"
  }
 },
 "nbformat": 4,
 "nbformat_minor": 5
}
